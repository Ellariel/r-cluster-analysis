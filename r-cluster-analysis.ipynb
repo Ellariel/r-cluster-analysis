{
 "cells": [
  {
   "cell_type": "code",
   "execution_count": 2,
   "metadata": {},
   "outputs": [],
   "source": [
    "data<-read.csv(\"Data_Projects.csv\", sep=\";\", dec=\",\")"
   ]
  },
  {
   "cell_type": "markdown",
   "metadata": {},
   "source": [
    "#### 1. Проанализируйте распределения признаков, которые вы хотите включить в модель. Обращайте внимание на наличие выбросов, не забывайте, что нетипичные значения всегда образуют отдельные, не информативные и ненаполненные кластеры."
   ]
  },
  {
   "cell_type": "code",
   "execution_count": 3,
   "metadata": {},
   "outputs": [
    {
     "data": {
      "text/html": [
       "<table>\n",
       "<thead><tr><th scope=col>AddressCount</th><th scope=col>CallsCount</th><th scope=col>ClicksCount</th><th scope=col>FirmsCount</th><th scope=col>GeoPart</th><th scope=col>MobilePart</th><th scope=col>UsersCount</th><th scope=col>Distance</th><th scope=col>IsGeo</th></tr></thead>\n",
       "<tbody>\n",
       "\t<tr><td>156      </td><td>20       </td><td>1903     </td><td>176      </td><td>0.4161044</td><td>0.5357625</td><td>1125     </td><td> 749.9661</td><td>1        </td></tr>\n",
       "\t<tr><td> 17      </td><td>37       </td><td> 258     </td><td> 20      </td><td>0.2116788</td><td>0.4306569</td><td> 157     </td><td>2289.0324</td><td>0        </td></tr>\n",
       "\t<tr><td> 78      </td><td>56       </td><td>1956     </td><td>185      </td><td>0.3494754</td><td>0.4765940</td><td>1195     </td><td>1423.3765</td><td>1        </td></tr>\n",
       "\t<tr><td> 14      </td><td>70       </td><td> 378     </td><td> 19      </td><td>0.3187184</td><td>0.4637437</td><td> 206     </td><td>3396.5661</td><td>0        </td></tr>\n",
       "\t<tr><td>111      </td><td>90       </td><td>4089     </td><td> 90      </td><td>0.5561755</td><td>0.4905733</td><td>2934     </td><td>1576.5142</td><td>1        </td></tr>\n",
       "\t<tr><td> 53      </td><td>96       </td><td>1669     </td><td>162      </td><td>0.3989782</td><td>0.4217371</td><td> 991     </td><td>2337.6038</td><td>0        </td></tr>\n",
       "</tbody>\n",
       "</table>\n"
      ],
      "text/latex": [
       "\\begin{tabular}{r|lllllllll}\n",
       " AddressCount & CallsCount & ClicksCount & FirmsCount & GeoPart & MobilePart & UsersCount & Distance & IsGeo\\\\\n",
       "\\hline\n",
       "\t 156       & 20        & 1903      & 176       & 0.4161044 & 0.5357625 & 1125      &  749.9661 & 1        \\\\\n",
       "\t  17       & 37        &  258      &  20       & 0.2116788 & 0.4306569 &  157      & 2289.0324 & 0        \\\\\n",
       "\t  78       & 56        & 1956      & 185       & 0.3494754 & 0.4765940 & 1195      & 1423.3765 & 1        \\\\\n",
       "\t  14       & 70        &  378      &  19       & 0.3187184 & 0.4637437 &  206      & 3396.5661 & 0        \\\\\n",
       "\t 111       & 90        & 4089      &  90       & 0.5561755 & 0.4905733 & 2934      & 1576.5142 & 1        \\\\\n",
       "\t  53       & 96        & 1669      & 162       & 0.3989782 & 0.4217371 &  991      & 2337.6038 & 0        \\\\\n",
       "\\end{tabular}\n"
      ],
      "text/markdown": [
       "\n",
       "| AddressCount | CallsCount | ClicksCount | FirmsCount | GeoPart | MobilePart | UsersCount | Distance | IsGeo |\n",
       "|---|---|---|---|---|---|---|---|---|\n",
       "| 156       | 20        | 1903      | 176       | 0.4161044 | 0.5357625 | 1125      |  749.9661 | 1         |\n",
       "|  17       | 37        |  258      |  20       | 0.2116788 | 0.4306569 |  157      | 2289.0324 | 0         |\n",
       "|  78       | 56        | 1956      | 185       | 0.3494754 | 0.4765940 | 1195      | 1423.3765 | 1         |\n",
       "|  14       | 70        |  378      |  19       | 0.3187184 | 0.4637437 |  206      | 3396.5661 | 0         |\n",
       "| 111       | 90        | 4089      |  90       | 0.5561755 | 0.4905733 | 2934      | 1576.5142 | 1         |\n",
       "|  53       | 96        | 1669      | 162       | 0.3989782 | 0.4217371 |  991      | 2337.6038 | 0         |\n",
       "\n"
      ],
      "text/plain": [
       "  AddressCount CallsCount ClicksCount FirmsCount GeoPart   MobilePart\n",
       "1 156          20         1903        176        0.4161044 0.5357625 \n",
       "2  17          37          258         20        0.2116788 0.4306569 \n",
       "3  78          56         1956        185        0.3494754 0.4765940 \n",
       "4  14          70          378         19        0.3187184 0.4637437 \n",
       "5 111          90         4089         90        0.5561755 0.4905733 \n",
       "6  53          96         1669        162        0.3989782 0.4217371 \n",
       "  UsersCount Distance  IsGeo\n",
       "1 1125        749.9661 1    \n",
       "2  157       2289.0324 0    \n",
       "3 1195       1423.3765 1    \n",
       "4  206       3396.5661 0    \n",
       "5 2934       1576.5142 1    \n",
       "6  991       2337.6038 0    "
      ]
     },
     "metadata": {},
     "output_type": "display_data"
    }
   ],
   "source": [
    "head(data)"
   ]
  },
  {
   "cell_type": "code",
   "execution_count": 4,
   "metadata": {},
   "outputs": [
    {
     "data": {
      "image/png": "[encoded data removed]",
      "text/plain": [
       "Plot with title \"\""
      ]
     },
     "metadata": {},
     "output_type": "display_data"
    }
   ],
   "source": [
    "par(mfcol=c(2,4), mar=c(4,4,2,2))\n",
    "hist(data$AddressCount, breaks=\"FD\", main=\"\")\n",
    "hist(data$CallsCount, breaks=\"FD\", main=\"\")\n",
    "hist(data$ClicksCount, breaks=\"FD\", main=\"\")\n",
    "hist(data$FirmsCount, breaks=\"FD\", main=\"\")\n",
    "hist(data$GeoPart, breaks=\"FD\", main=\"\")\n",
    "hist(data$MobilePart, breaks=\"FD\", main=\"\")\n",
    "hist(data$UsersCount, breaks=\"FD\", main=\"\")\n",
    "hist(data$Distance, breaks=\"FD\", main=\"\")"
   ]
  },
  {
   "cell_type": "markdown",
   "metadata": {},
   "source": [
    "Можно невооруженным глазом подметить, что AddressCount, CallsCount, ClicksCount, FirmsCount, UsersCount близки к логнормальному распределению. Тогда как GeoPart, MobilePart, Distance имеют куполообразное распределение с некоторой асимметрией и признаками смеси в данных. Distance явно асимметричен для нормального. Заранее известно, что в данных может быть смесь геонезависимых и геозависимых сфер, определенных бинарным признаком IsGeo (его гистограмму строить не имеет смысла).\n",
    "Все признаки (за исключением IsGeo) представлены в метрических шкалах, поэтому они все пригодны для дальнейшего анализа стандартными методами. Однако логнормально-распределенные признаки следует приблизить к нормальности, чтобы избежать смещенных оценок, опирающихся на меры среднего. Для этого прологарифмируем AddressCount, CallsCount, ClicksCount, FirmsCount, UsersCount для дальнейшего анализа."
   ]
  },
  {
   "cell_type": "markdown",
   "metadata": {},
   "source": [
    "#### 2. Подготовьте переменные для включения в модель, зафиксируйте (и опишите в работе), как преобразовывались признаки, какие значения отбрасывались."
   ]
  },
  {
   "cell_type": "markdown",
   "metadata": {},
   "source": [
    "Прологарифмируем AddressCount, CallsCount, ClicksCount, FirmsCount, UsersCount для дальнейшего анализа."
   ]
  },
  {
   "cell_type": "code",
   "execution_count": 5,
   "metadata": {},
   "outputs": [],
   "source": [
    "data$AddressCount<-log10(data$AddressCount)\n",
    "data$CallsCount<-log10(data$CallsCount)\n",
    "data$ClicksCount<-log10(data$ClicksCount)\n",
    "data$FirmsCount<-log10(data$FirmsCount)\n",
    "data$UsersCount<-log10(data$UsersCount)\n",
    "data$Distance<-log10(data$Distance)"
   ]
  },
  {
   "cell_type": "code",
   "execution_count": 7,
   "metadata": {},
   "outputs": [
    {
     "name": "stderr",
     "output_type": "stream",
     "text": [
      "Warning message:\n",
      "\"package 'car' was built under R version 3.6.3\"Loading required package: carData\n"
     ]
    }
   ],
   "source": [
    "library(car)"
   ]
  },
  {
   "cell_type": "code",
   "execution_count": 8,
   "metadata": {},
   "outputs": [
    {
     "data": {
      "text/html": [
       "<ol class=list-inline>\n",
       "\t<li>78</li>\n",
       "\t<li>79</li>\n",
       "</ol>\n"
      ],
      "text/latex": [
       "\\begin{enumerate*}\n",
       "\\item 78\n",
       "\\item 79\n",
       "\\end{enumerate*}\n"
      ],
      "text/markdown": [
       "1. 78\n",
       "2. 79\n",
       "\n",
       "\n"
      ],
      "text/plain": [
       "[1] 78 79"
      ]
     },
     "metadata": {},
     "output_type": "display_data"
    },
    {
     "data": {
      "image/png": "[encoded data removed]",
      "text/plain": [
       "plot without title"
      ]
     },
     "metadata": {},
     "output_type": "display_data"
    }
   ],
   "source": [
    "par(mfcol=c(2,4), mar=c(4,4,2,2))\n",
    "Boxplot(data$AddressCount)\n",
    "Boxplot(data$CallsCount)\n",
    "Boxplot(data$ClicksCount)\n",
    "Boxplot(data$FirmsCount)\n",
    "Boxplot(data$UsersCount, id=TRUE)\n",
    "Boxplot(data$Distance)\n",
    "Boxplot(data$GeoPart)\n",
    "Boxplot(data$MobilePart)"
   ]
  },
  {
   "cell_type": "markdown",
   "metadata": {},
   "source": [
    "Чтож, теперь распределения достаточно симметричны. Есть два выброса в CallsCount (78, 79). Удалим их."
   ]
  },
  {
   "cell_type": "code",
   "execution_count": null,
   "metadata": {},
   "outputs": [],
   "source": [
    "data[78,]<-NA\n",
    "data[79,]<-NA\n",
    "data<-na.omit(data)"
   ]
  },
  {
   "cell_type": "markdown",
   "metadata": {},
   "source": [
    "#### 3. Постройте кластеризацию методом k-средних. Попробуйте построить несколько решений и выберите самое, на ваш взгляд, лучшее, основываясь на любом из методов, который мы разбирали в курсе. Опишите в работе, как вы отбирали оптимальную модель."
   ]
  },
  {
   "cell_type": "markdown",
   "metadata": {},
   "source": [
    "Для начала попробуем определить оптимальное число кластеров на основе дендрограммы иерархического кластерного анализа."
   ]
  },
  {
   "cell_type": "code",
   "execution_count": null,
   "metadata": {},
   "outputs": [],
   "source": [
    "plot(hclust(dist(data)))"
   ]
  },
  {
   "cell_type": "markdown",
   "metadata": {},
   "source": [
    "Визуальный анализ показывает, что разбиение на 6-7 кластеров будет достаточно информативно. Создадим несколько разбиений и сравним их по эвристическому критерию - наполненности кластеров."
   ]
  },
  {
   "cell_type": "code",
   "execution_count": null,
   "metadata": {},
   "outputs": [],
   "source": [
    "k5<-kmeans(data, centers=5, nstart=50)\n",
    "k6<-kmeans(data, centers=6, nstart=50)\n",
    "k7<-kmeans(data, centers=7, nstart=50)\n",
    "k8<-kmeans(data, centers=8, nstart=50)"
   ]
  },
  {
   "cell_type": "code",
   "execution_count": null,
   "metadata": {},
   "outputs": [],
   "source": [
    "k5$size\n",
    "k6$size\n",
    "k7$size\n",
    "k8$size\n"
   ]
  },
  {
   "cell_type": "code",
   "execution_count": null,
   "metadata": {},
   "outputs": [],
   "source": [
    "k5$centers"
   ]
  },
  {
   "cell_type": "markdown",
   "metadata": {},
   "source": [
    "С точки зрения эвристического критерия полноты кластеров (не менее 10% объектов) - примем в качестве пригодного решение с 5 кластерами."
   ]
  },
  {
   "cell_type": "markdown",
   "metadata": {},
   "source": [
    "#### 4. Оцените, все ли признаки существенно различают группы, не нужно ли исключить какой-либо из них. Если исключение необходимо, укажите и объясните это в работе."
   ]
  },
  {
   "cell_type": "markdown",
   "metadata": {},
   "source": [
    "С точки зрения разброса расстояний центров возможно стоит исключить из рассмотрения признак Distance. Возможно также нет достаточно значимых различий между кластерами по GeoPart и MobilePart, однако исключать мы их не будем ввиду ценности для интерпретации результатов."
   ]
  },
  {
   "cell_type": "code",
   "execution_count": null,
   "metadata": {},
   "outputs": [],
   "source": [
    "data<-data[,c(1:7,9)]\n",
    "k5<-kmeans(data, centers=5, nstart=50)\n",
    "k5$centers\n",
    "data$cluster<-k5$cluster"
   ]
  },
  {
   "cell_type": "markdown",
   "metadata": {},
   "source": [
    "#### 5. Опишите кластеры содержательно: какие рубрики попали в какой из кластеров? В чём особенности кластеров? Можете придумать группам какие-нибудь яркие, запоминающиеся названия, которые отражают особенности построенных кластеров."
   ]
  },
  {
   "cell_type": "code",
   "execution_count": null,
   "metadata": {},
   "outputs": [],
   "source": [
    "plot(data[1:8], col=k5$centers, pch=19, cex=1)"
   ]
  },
  {
   "cell_type": "markdown",
   "metadata": {},
   "source": [
    "Можно заметить что в совокупности выделяются две пары групп, в среднем похожих, но отличающихся наличием или отсустствием геозависимости (две группы IsGeo=1 и две группы IsGeo=0). Также выделяется одна принципиально отличающаяся по всем признакам группа с центром 0.05 по IsGeo."
   ]
  },
  {
   "cell_type": "markdown",
   "metadata": {},
   "source": [
    "В каждой паре (геозависимой и геонезависимой) выделяется группа с высокими значениями всех признаков и группа с низкими значениями. Исключительная группа (0.05 по IsGeo) имеет очевидно минимальные координаты центра по всем измерениям."
   ]
  },
  {
   "cell_type": "markdown",
   "metadata": {},
   "source": [
    "#### 6. Сравните кластеры по доле трафика с карты и с мобильных продуктов (признаки GeoPart и MobilePart соответственно). Предварительно проанализируйте признаки, по которым будете сравнивать, и выберите соответствующий критерий для сравнения. Опишите выбор критерия: как выбирали, и почему остановились именно на этом?"
   ]
  },
  {
   "cell_type": "markdown",
   "metadata": {},
   "source": [
    "Посмотрим для начала диаграмму рассеяния по данным признакам в кластерах с нанесением центров кластеров."
   ]
  },
  {
   "cell_type": "code",
   "execution_count": null,
   "metadata": {},
   "outputs": [],
   "source": [
    "plot(data[,5:6], col=k5$centers, pch=19, cex=1)\n",
    "points(k5$centers[,5:6], pch=4, cex=4, lwd=4, col=as.integer(rownames(k5$centers[,5:6])))"
   ]
  },
  {
   "cell_type": "code",
   "execution_count": null,
   "metadata": {},
   "outputs": [],
   "source": [
    "par(mfcol=c(1,2), mar=c(4,4,2,2))\n",
    "Boxplot(data$GeoPart)\n",
    "Boxplot(data$MobilePart)"
   ]
  },
  {
   "cell_type": "markdown",
   "metadata": {},
   "source": [
    "Данные признаки распределены достаточно симметрично и не обнаруживают выбросов. Проверим их нормальность используя достаточно мощный критерий Шапиро-Уилка. Заодно посмотрим Q-Q графики сравнения с нормальным распределением."
   ]
  },
  {
   "cell_type": "code",
   "execution_count": null,
   "metadata": {},
   "outputs": [],
   "source": [
    "shapiro.test(data$GeoPart)\n",
    "shapiro.test(data$MobilePart)\n",
    "par(mfcol=c(1,2), mar=c(4,4,2,2))\n",
    "qqnorm(data$GeoPart)\n",
    "qqnorm(data$MobilePart)"
   ]
  },
  {
   "cell_type": "markdown",
   "metadata": {},
   "source": [
    "p-value критерия Шапиро-Уилка значительно превышает 0.05, поэтому данные в целом можно признать распределенными нормально. Это значит, что мы можем использовать критерии сравнения кластеров (как несвязанных выборок) основанные на распределениях стьюдента и Фишера, в том числе ANOVA."
   ]
  },
  {
   "cell_type": "markdown",
   "metadata": {},
   "source": [
    "#### 7. Сделайте содержательный вывод о различиях между кластерами, а также вывод о статистической значимости выявленных различий. Различаются ли кластеры (группы рубрик/сфер) по доле трафика с карты и с мобильных продуктов? Как именно? Значимы ли эти различия статистически?"
   ]
  },
  {
   "cell_type": "markdown",
   "metadata": {},
   "source": [
    "Воспользуемся возможностью выполнить дисперсионный анализ (ANOVA)."
   ]
  },
  {
   "cell_type": "code",
   "execution_count": null,
   "metadata": {},
   "outputs": [],
   "source": [
    "with(data, summary(aov(GeoPart ~ cluster))) #ANOVA\n",
    "with(data, summary(aov(MobilePart ~ cluster)))"
   ]
  },
  {
   "cell_type": "markdown",
   "metadata": {},
   "source": [
    "Результаты дисперсионного анализа показывают, что в случае GeoPart и MobilePart кластеры статистически значимо различаются на уровне p>0.05 (имеются как минимум два кластера, отличающихся в среднем)."
   ]
  },
  {
   "cell_type": "code",
   "execution_count": null,
   "metadata": {},
   "outputs": [],
   "source": []
  }
 ],
 "metadata": {
  "kernelspec": {
   "display_name": "R",
   "language": "R",
   "name": "ir"
  },
  "language_info": {
   "codemirror_mode": "r",
   "file_extension": ".r",
   "mimetype": "text/x-r-source",
   "name": "R",
   "pygments_lexer": "r",
   "version": "3.6.1"
  }
 },
 "nbformat": 4,
 "nbformat_minor": 4
}
